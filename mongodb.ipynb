{
 "cells": [
  {
   "cell_type": "code",
   "execution_count": 1,
   "id": "9f619598",
   "metadata": {},
   "outputs": [
    {
     "name": "stdout",
     "output_type": "stream",
     "text": [
      "Requirement already satisfied: pymongo in d:\\ml\\project\\project_conda\\ml-project\\env\\lib\\site-packages (4.2.0)\n",
      "Note: you may need to restart the kernel to use updated packages.\n"
     ]
    },
    {
     "name": "stderr",
     "output_type": "stream",
     "text": [
      "WARNING: Ignoring invalid distribution ~umpy (d:\\ML\\Project\\project_conda\\ML-Project\\env\\Lib\\site-packages)\n",
      "WARNING: Ignoring invalid distribution ~umpy (d:\\ML\\Project\\project_conda\\ML-Project\\env\\Lib\\site-packages)\n",
      "WARNING: Ignoring invalid distribution ~umpy (d:\\ML\\Project\\project_conda\\ML-Project\\env\\Lib\\site-packages)\n"
     ]
    }
   ],
   "source": [
    "pip install pymongo"
   ]
  },
  {
   "cell_type": "code",
   "execution_count": null,
   "id": "e2ee9cf1",
   "metadata": {},
   "outputs": [],
   "source": []
  }
 ],
 "metadata": {
  "kernelspec": {
   "display_name": "ml_project_env",
   "language": "python",
   "name": "ml_project_env"
  },
  "language_info": {
   "codemirror_mode": {
    "name": "ipython",
    "version": 3
   },
   "file_extension": ".py",
   "mimetype": "text/x-python",
   "name": "python",
   "nbconvert_exporter": "python",
   "pygments_lexer": "ipython3",
   "version": "3.11.13"
  }
 },
 "nbformat": 4,
 "nbformat_minor": 5
}
